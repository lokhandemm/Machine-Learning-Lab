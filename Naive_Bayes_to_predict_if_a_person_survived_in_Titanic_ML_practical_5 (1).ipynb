{
  "nbformat": 4,
  "nbformat_minor": 0,
  "metadata": {
    "colab": {
      "provenance": []
    },
    "kernelspec": {
      "name": "python3",
      "display_name": "Python 3"
    },
    "language_info": {
      "name": "python"
    }
  },
  "cells": [
    {
      "cell_type": "markdown",
      "source": [
        "##NAIVE BAYES"
      ],
      "metadata": {
        "id": "GERRGVN4uW_U"
      }
    },
    {
      "cell_type": "markdown",
      "source": [
        "## Importing the libraries"
      ],
      "metadata": {
        "id": "LFJmlxlvuaL-"
      }
    },
    {
      "cell_type": "code",
      "source": [
        "import numpy as np\n",
        "import matplotlib.pyplot as plt\n",
        "import pandas as pd"
      ],
      "metadata": {
        "id": "3wOjWq90hL0X"
      },
      "execution_count": null,
      "outputs": []
    },
    {
      "cell_type": "markdown",
      "source": [
        "## Importing the dataset"
      ],
      "metadata": {
        "id": "cDKBCiUdugRe"
      }
    },
    {
      "cell_type": "code",
      "source": [
        "dataset = pd.read_csv('titanic.csv')\n",
        "X = dataset.iloc[:, :-1].values\n",
        "y = dataset.iloc[:, -1].values"
      ],
      "metadata": {
        "id": "IBmUANqFjp3I"
      },
      "execution_count": null,
      "outputs": []
    },
    {
      "cell_type": "markdown",
      "source": [
        "## Splitting the dataset into the Training set and Test set"
      ],
      "metadata": {
        "id": "1CqPrU5LupLs"
      }
    },
    {
      "cell_type": "code",
      "source": [
        "from sklearn.model_selection import train_test_split\n",
        "X_train, X_test, y_train, y_test = train_test_split(X, y, test_size = 0.25, random_state = 0)"
      ],
      "metadata": {
        "id": "7aKGhKS5jxdZ"
      },
      "execution_count": null,
      "outputs": []
    },
    {
      "cell_type": "code",
      "source": [
        "print(X_train)"
      ],
      "metadata": {
        "colab": {
          "base_uri": "https://localhost:8080/"
        },
        "id": "rVGhevSykLq1",
        "outputId": "12e84d99-e0e6-44cb-d252-1322e8452292"
      },
      "execution_count": null,
      "outputs": [
        {
          "output_type": "stream",
          "name": "stdout",
          "text": [
            "[[106 0 3 ... '349207' 7.8958 nan]\n",
            " [69 1 3 ... '3101281' 7.925 nan]\n",
            " [254 0 3 ... 'A/5. 3336' 16.1 nan]\n",
            " ...\n",
            " [630 0 3 ... '334912' 7.7333 nan]\n",
            " [560 1 3 ... '345572' 17.4 nan]\n",
            " [685 0 2 ... '29750' 39.0 nan]]\n"
          ]
        }
      ]
    },
    {
      "cell_type": "code",
      "source": [
        "print(y_train)"
      ],
      "metadata": {
        "colab": {
          "base_uri": "https://localhost:8080/"
        },
        "id": "NwajGKWNkNRI",
        "outputId": "87b69efb-c135-4821-9cff-da511096555a"
      },
      "execution_count": null,
      "outputs": [
        {
          "output_type": "stream",
          "name": "stdout",
          "text": [
            "['S' 'S' 'S' 'S' 'S' 'S' 'S' 'S' 'S' 'S' 'S' 'S' 'S' 'C' 'S' 'S' 'S' 'C'\n",
            " 'S' 'S' 'S' 'S' 'C' 'Q' 'S' 'S' 'S' 'S' 'S' 'C' 'S' 'S' 'S' 'Q' 'S' 'S'\n",
            " 'Q' 'S' 'C' 'C' 'S' 'Q' 'C' 'S' 'C' 'S' 'C' 'S' 'S' 'C' 'S' 'C' 'S' 'S'\n",
            " 'S' 'Q' 'S' 'S' 'Q' 'S' 'S' 'S' 'S' 'C' 'S' 'S' 'S' 'S' 'S' 'C' 'S' 'S'\n",
            " 'S' 'S' 'S' 'S' 'S' 'S' 'S' 'S' 'S' 'C' 'Q' 'S' 'S' 'S' 'S' 'S' 'Q' 'S'\n",
            " 'S' 'S' 'S' 'S' 'S' 'S' 'S' 'C' 'Q' 'C' 'S' 'S' 'Q' 'S' 'S' 'C' 'S' 'S'\n",
            " 'S' 'S' 'S' 'Q' 'S' 'C' 'S' 'C' 'S' 'S' 'C' 'S' 'S' 'S' 'C' 'S' 'S' 'S'\n",
            " 'S' 'S' 'S' 'S' 'S' 'C' 'S' 'S' 'S' 'S' 'S' 'S' 'S' 'S' 'S' 'S' 'S' 'S'\n",
            " 'S' 'S' 'C' 'S' 'Q' 'S' 'Q' 'S' 'S' 'C' 'S' 'S' 'S' 'Q' 'S' 'Q' 'S' 'S'\n",
            " 'S' 'C' 'S' 'Q' 'S' 'Q' 'C' 'Q' 'S' 'C' 'S' 'S' 'S' 'S' 'C' 'S' 'C' 'S'\n",
            " 'C' 'S' 'S' 'C' 'S' 'S' 'S' 'S' 'S' 'S' 'S' 'C' 'S' 'S' 'C' 'C' 'C' 'S'\n",
            " 'S' 'S' 'S' 'S' 'S' 'S' 'S' 'S' 'Q' 'Q' 'S' 'C' 'S' 'S' 'S' 'Q' 'S' 'S'\n",
            " 'S' 'S' 'S' 'C' 'S' 'S' 'S' 'S' 'S' 'S' 'S' 'S' 'S' 'S' 'C' 'C' 'S' 'S'\n",
            " 'C' 'C' 'S' 'S' 'S' 'S' 'C' 'S' 'S' 'S' 'S' 'S' 'S' 'S' 'S' 'S' 'C' 'S'\n",
            " 'S' 'Q' 'S' 'C' 'S' 'S' 'S' 'S' 'C' 'S' 'C' 'S' 'S' 'S' 'Q' 'C' 'S' 'S'\n",
            " 'S' 'S' 'S' 'S' 'C' 'S' 'S' 'S' 'S' 'S' 'C' 'S' 'S' 'S' 'S' 'Q' 'S' 'S'\n",
            " 'S' 'S' 'Q' 'S' 'S' 'S' 'S' 'S' 'Q' 'S' 'C' 'S' 'S' 'Q' 'S' 'S' 'S' 'C'\n",
            " 'Q' 'S' 'S' 'S' 'C' 'Q' 'S' 'Q' 'S' 'C' 'S' 'Q' 'C' 'S' 'S' 'S' 'S' 'S'\n",
            " 'Q' 'S' 'Q' 'S' 'S' 'S' 'C' 'C' 'S' 'S' 'S' 'S' 'C' 'S' 'S' 'S' 'S' 'C'\n",
            " 'S' 'Q' 'S' 'S' 'S' 'S' 'S' 'S' 'S' 'S' 'S' 'S' 'S' 'S' 'C' 'S' 'S' 'S'\n",
            " 'S' 'S' 'S' 'C' 'S' 'S' 'S' 'S' 'Q' 'S' 'S' 'S' 'C' 'S' 'S' 'S' 'S' 'S'\n",
            " 'S' 'S' 'S' 'Q' 'S' 'S' 'S' 'S' 'S' 'S' 'Q' 'C' 'S' 'S' 'S' 'S' 'S' 'S'\n",
            " 'S' 'S' 'Q' 'S' 'C' 'S' 'S' 'S' 'S' 'S' 'S' 'S' 'C' 'S' 'S' 'C' 'S' 'S'\n",
            " 'S' 'S' 'S' 'S' 'S' 'S' 'S' 'S' 'C' 'S' 'S' 'Q' 'S' nan 'S' 'S' 'S' 'S'\n",
            " 'S' 'S' 'C' 'C' 'C' 'S' 'S' 'S' 'S' 'S' 'S' 'S' 'C' 'S' 'S' 'S' 'S' 'Q'\n",
            " 'S' 'S' 'S' 'S' 'S' 'S' 'S' 'S' 'S' 'S' 'C' 'S' 'S' 'S' 'C' 'S' 'C' 'S'\n",
            " 'Q' 'Q' 'C' 'C' 'S' 'Q' 'S' 'C' 'S' 'S' 'S' 'S' 'S' 'S' 'S' 'S' 'S' 'S'\n",
            " 'S' 'S' 'S' 'S' 'S' 'S' 'S' 'C' 'C' 'Q' 'S' 'S' 'S' 'S' 'S' 'S' 'C' 'S'\n",
            " 'C' 'S' 'S' 'S' 'S' 'S' 'Q' 'S' 'S' 'S' 'S' 'S' 'S' 'Q' 'S' 'S' nan 'S'\n",
            " 'Q' 'S' 'C' 'S' 'C' 'S' 'C' 'S' 'S' 'S' 'Q' 'S' 'C' 'S' 'S' 'S' 'S' 'S'\n",
            " 'S' 'S' 'C' 'C' 'S' 'S' 'C' 'S' 'C' 'S' 'S' 'S' 'Q' 'S' 'S' 'S' 'C' 'S'\n",
            " 'C' 'S' 'S' 'S' 'S' 'S' 'S' 'C' 'S' 'Q' 'C' 'S' 'S' 'S' 'S' 'Q' 'S' 'S'\n",
            " 'C' 'Q' 'S' 'S' 'C' 'S' 'S' 'S' 'S' 'S' 'S' 'Q' 'S' 'S' 'S' 'C' 'C' 'S'\n",
            " 'S' 'S' 'S' 'C' 'S' 'Q' 'S' 'C' 'S' 'S' 'C' 'S' 'C' 'C' 'S' 'Q' 'S' 'Q'\n",
            " 'Q' 'S' 'S' 'C' 'S' 'S' 'C' 'S' 'Q' 'S' 'S' 'S' 'S' 'C' 'S' 'C' 'C' 'S'\n",
            " 'S' 'C' 'S' 'C' 'C' 'S' 'S' 'S' 'S' 'S' 'C' 'S' 'C' 'C' 'C' 'S' 'S' 'S'\n",
            " 'S' 'S' 'S' 'S' 'S' 'S' 'C' 'S' 'S' 'S' 'S' 'C' 'Q' 'S' 'S' 'C' 'S' 'Q'\n",
            " 'S' 'S']\n"
          ]
        }
      ]
    },
    {
      "cell_type": "code",
      "source": [
        "print(X_test)"
      ],
      "metadata": {
        "colab": {
          "base_uri": "https://localhost:8080/"
        },
        "id": "78P-0WJ_lvXl",
        "outputId": "e3b3486e-30c3-4839-8b7e-eb5a7dc49a08"
      },
      "execution_count": null,
      "outputs": [
        {
          "output_type": "stream",
          "name": "stdout",
          "text": [
            "[[496 0 3 ... '2627' 14.4583 nan]\n",
            " [649 0 3 ... 'S.O./P.P. 751' 7.55 nan]\n",
            " [279 0 3 ... '382652' 29.125 nan]\n",
            " ...\n",
            " [380 0 3 ... '347069' 7.775 nan]\n",
            " [743 1 1 ... 'PC 17608' 262.375 'B57 B59 B63 B66']\n",
            " [11 1 3 ... 'PP 9549' 16.7 'G6']]\n"
          ]
        }
      ]
    },
    {
      "cell_type": "code",
      "source": [
        "print(y_test)"
      ],
      "metadata": {
        "colab": {
          "base_uri": "https://localhost:8080/"
        },
        "id": "4pry4-wZlyms",
        "outputId": "30736696-c8ce-4466-8f5f-5ba8683e60d1"
      },
      "execution_count": null,
      "outputs": [
        {
          "output_type": "stream",
          "name": "stdout",
          "text": [
            "['C' 'S' 'Q' 'C' 'C' 'S' 'S' 'S' 'C' 'C' 'S' 'S' 'Q' 'S' 'C' 'S' 'S' 'S'\n",
            " 'S' 'C' 'S' 'S' 'Q' 'S' 'S' 'C' 'S' 'S' 'S' 'S' 'C' 'S' 'S' 'S' 'S' 'C'\n",
            " 'S' 'S' 'S' 'S' 'C' 'C' 'S' 'S' 'S' 'S' 'S' 'C' 'S' 'S' 'S' 'C' 'S' 'S'\n",
            " 'C' 'S' 'S' 'S' 'S' 'Q' 'C' 'S' 'C' 'C' 'S' 'Q' 'S' 'S' 'S' 'S' 'S' 'S'\n",
            " 'C' 'S' 'S' 'S' 'S' 'C' 'S' 'C' 'Q' 'S' 'S' 'S' 'S' 'S' 'C' 'S' 'S' 'C'\n",
            " 'S' 'S' 'S' 'C' 'S' 'C' 'S' 'S' 'S' 'C' 'S' 'S' 'S' 'S' 'S' 'S' 'S' 'S'\n",
            " 'S' 'Q' 'S' 'S' 'S' 'S' 'S' 'S' 'S' 'C' 'S' 'S' 'S' 'Q' 'S' 'S' 'S' 'C'\n",
            " 'C' 'S' 'S' 'S' 'Q' 'S' 'S' 'S' 'S' 'S' 'Q' 'S' 'S' 'S' 'S' 'Q' 'S' 'Q'\n",
            " 'S' 'S' 'S' 'S' 'C' 'S' 'S' 'S' 'S' 'S' 'C' 'S' 'C' 'S' 'Q' 'C' 'S' 'C'\n",
            " 'C' 'S' 'C' 'S' 'S' 'S' 'S' 'S' 'S' 'C' 'S' 'S' 'C' 'S' 'C' 'S' 'S' 'C'\n",
            " 'S' 'C' 'C' 'S' 'S' 'S' 'Q' 'S' 'S' 'S' 'S' 'S' 'C' 'Q' 'Q' 'C' 'S' 'S'\n",
            " 'S' 'S' 'S' 'C' 'S' 'C' 'S' 'C' 'S' 'S' 'Q' 'S' 'S' 'C' 'S' 'C' 'S' 'S'\n",
            " 'C' 'S' 'S' 'C' 'S' 'C' 'S']\n"
          ]
        }
      ]
    },
    {
      "cell_type": "markdown",
      "source": [
        "##Handling missing value"
      ],
      "metadata": {
        "id": "UKon54MbvZQU"
      }
    },
    {
      "cell_type": "code",
      "source": [
        "# Handle missing values (filling with mean as an example)\n",
        "dataset['Age'].fillna(dataset['Age'].mean(), inplace=True)\n",
        "dataset['Fare'].fillna(dataset['Fare'].mean(), inplace=True)"
      ],
      "metadata": {
        "id": "xoI_jg3EoY7G"
      },
      "execution_count": null,
      "outputs": []
    },
    {
      "cell_type": "markdown",
      "source": [
        "## Feature Scaling"
      ],
      "metadata": {
        "id": "GRvM9xkYvekH"
      }
    },
    {
      "cell_type": "code",
      "source": [
        "sc = StandardScaler()\n",
        "X_train = sc.fit_transform(X_train)\n",
        "X_test = sc.transform(X_test)\n",
        "print(\"Scaled Training Data:\\n\", X_train)"
      ],
      "metadata": {
        "colab": {
          "base_uri": "https://localhost:8080/"
        },
        "id": "HqkMXjPKpsET",
        "outputId": "34e619f4-efd3-49f3-8186-a173e06f62d7"
      },
      "execution_count": null,
      "outputs": [
        {
          "output_type": "stream",
          "name": "stdout",
          "text": [
            "Scaled Training Data:\n",
            " [[-0.14358693 -0.48380773]\n",
            " [-0.99275516 -0.48323058]\n",
            " [ 0.01080729 -0.32165051]\n",
            " ...\n",
            " [-0.01241996 -0.48701956]\n",
            " [ 0.47398996 -0.29595582]\n",
            " [ 2.32672063  0.13097136]]\n"
          ]
        }
      ]
    },
    {
      "cell_type": "code",
      "source": [
        "print(X_train)"
      ],
      "metadata": {
        "colab": {
          "base_uri": "https://localhost:8080/"
        },
        "id": "W0RGts-hpyi1",
        "outputId": "b8446da5-a1dc-4f63-c7a9-8d221a1c440d"
      },
      "execution_count": null,
      "outputs": [
        {
          "output_type": "stream",
          "name": "stdout",
          "text": [
            "[[-0.13126581 -0.48380773]\n",
            " [-0.89122579 -0.48323058]\n",
            " [ 0.00690873 -0.32165051]\n",
            " ...\n",
            " [        nan -0.48701956]\n",
            " [ 0.42143235 -0.29595582]\n",
            " [ 2.07952685  0.13097136]]\n"
          ]
        }
      ]
    },
    {
      "cell_type": "code",
      "source": [
        "print(X_test)"
      ],
      "metadata": {
        "colab": {
          "base_uri": "https://localhost:8080/"
        },
        "id": "rPF-ITCyp04S",
        "outputId": "fcc56a55-4e12-4489-f4fe-579bc8c521ba"
      },
      "execution_count": null,
      "outputs": [
        {
          "output_type": "stream",
          "name": "stdout",
          "text": [
            "[[        nan -0.35409895]\n",
            " [        nan -0.49064251]\n",
            " [-1.5820985  -0.06420947]\n",
            " [        nan  2.25613578]\n",
            " [-0.06217854 -0.3385339 ]\n",
            " [        nan -0.03703239]\n",
            " [ 0.69778144  2.3933395 ]\n",
            " [ 0.075996    2.61874519]\n",
            " [-0.33852763  1.1603244 ]\n",
            " [        nan -0.49698317]\n",
            " [-0.26944036 -0.48462996]\n",
            " [ 0.69778144 -0.38292246]\n",
            " [        nan -0.48668949]\n",
            " [-1.5820985  -0.12103427]\n",
            " [-0.4076149   1.00376665]\n",
            " [-1.09848761 -0.48462996]\n",
            " [-0.47670217 -0.45753589]\n",
            " [-0.75305125  0.08649978]\n",
            " [ 0.35234508 -0.48075994]\n",
            " [-2.03669274 -0.47153555]\n",
            " [-0.82213852 -0.41257018]\n",
            " [-0.54578944  2.35553865]\n",
            " [        nan -0.48693655]\n",
            " [        nan -0.02714982]\n",
            " [-0.54578944 -0.44542974]\n",
            " [ 0.69778144  2.0185429 ]\n",
            " [ 0.14508327 -0.48380773]\n",
            " [-0.54578944 -0.48668949]\n",
            " [-0.33852763 -0.12597555]\n",
            " [-1.92753486 -0.08842177]\n",
            " [ 0.21417054 -0.46865379]\n",
            " [ 1.38865414 -0.43233533]\n",
            " [-0.13126581 -0.45210048]\n",
            " [        nan  0.06179334]\n",
            " [-0.06217854 -0.5006081 ]\n",
            " [ 0.14508327 -0.03703239]\n",
            " [ 0.90504325 -0.51238418]\n",
            " [-0.13126581 -0.43233533]\n",
            " [-0.33852763 -0.38292246]\n",
            " [ 1.66500323 -0.36315732]\n",
            " [ 2.07952685  0.92553027]\n",
            " [-0.33852763 -0.49706619]\n",
            " [        nan -0.35327474]\n",
            " [-1.09848761  0.1445599 ]\n",
            " [ 0.35234508  1.01002627]\n",
            " [        nan -0.48380773]\n",
            " [        nan -0.48380773]\n",
            " [-0.82213852  4.54601107]\n",
            " [ 0.62869416 -0.38292246]\n",
            " [ 1.52682869  0.93442458]\n",
            " [        nan -0.04691496]\n",
            " [-0.47670217  0.61241674]\n",
            " [-1.78936031 -0.18527099]\n",
            " [-0.75305125 -0.48380773]\n",
            " [        nan -0.05284451]\n",
            " [-0.4076149   0.81286893]\n",
            " [ 2.21770139 -0.11510472]\n",
            " [-1.30574942 -0.0217144 ]\n",
            " [-1.37483669 -0.08842177]\n",
            " [        nan -0.18032971]\n",
            " [-0.54578944 -0.49698317]\n",
            " [-0.06217854 -0.2233189 ]\n",
            " [ 1.66500323  0.90708346]\n",
            " [        nan  0.14283045]\n",
            " [-0.20035309 -0.41981806]\n",
            " [ 0.14508327 -0.48668949]\n",
            " [ 1.31956687 -0.12737492]\n",
            " [-0.13126581  0.01238048]\n",
            " [-1.92753486 -0.12597555]\n",
            " [-0.75305125 -0.04691496]\n",
            " [-0.4076149  -0.12597555]\n",
            " [ 1.2504796   0.38791827]\n",
            " [-0.13126581  0.98424857]\n",
            " [        nan -0.48075994]\n",
            " [-0.37307126 -0.48075994]\n",
            " [ 0.00690873 -0.22480129]\n",
            " [-0.75305125  4.55836429]\n",
            " [ 0.69778144 -0.09196369]\n",
            " [ 0.28325781 -0.51147893]\n",
            " [        nan -0.34240391]\n",
            " [        nan -0.16254107]\n",
            " [-1.44392396 -0.32560354]\n",
            " [-0.26944036 -0.12597555]\n",
            " [-0.96031306 -0.48619536]\n",
            " [ 1.11230506 -0.12597555]\n",
            " [-0.61487671  0.90098789]\n",
            " [ 0.83595598  3.8571957 ]\n",
            " [ 2.28678866 -0.45037103]\n",
            " [ 0.28325781 -0.43233533]\n",
            " [-0.82213852  1.51255513]\n",
            " [        nan -0.63986937]\n",
            " [-0.75305125 -0.48380773]\n",
            " [-1.85844759 -0.12597555]\n",
            " [ 0.97413052  0.50609804]\n",
            " [-1.44392396 -0.08842177]\n",
            " [        nan -0.49698317]\n",
            " [-0.4076149  -0.35327474]\n",
            " [-0.96031306  0.1445599 ]\n",
            " [ 2.07952685 -0.11510472]\n",
            " [-0.20035309  0.87669454]\n",
            " [-1.09848761  0.28711602]\n",
            " [ 1.66500323 -0.12597555]\n",
            " [-0.75305125 -0.488666  ]\n",
            " [-0.82213852 -0.48462996]\n",
            " [-0.06217854 -0.43307652]\n",
            " [ 0.35234508 -0.23962515]\n",
            " [-0.13126581 -0.38984026]\n",
            " [ 0.76686871  0.1445599 ]\n",
            " [-0.33852763 -0.12597555]\n",
            " [        nan -0.3335096 ]\n",
            " [ 1.2504796  -0.48462996]\n",
            " [-0.54578944  0.44721371]\n",
            " [ 0.14508327  0.47677842]\n",
            " [        nan -0.48075994]\n",
            " [ 0.42143235  1.73194827]\n",
            " [-0.13126581 -0.38292246]\n",
            " [-0.4076149  -0.32659179]\n",
            " [-0.82213852  3.8571957 ]\n",
            " [ 0.69778144 -0.48380773]\n",
            " [ 1.04321779 -0.12103427]\n",
            " [        nan  0.47677842]\n",
            " [        nan -0.47268983]\n",
            " [-0.68396398 -0.46865379]\n",
            " [ 0.55960689 -0.63986937]\n",
            " [ 0.21417054 -0.46881784]\n",
            " [ 1.94135231 -0.05284451]\n",
            " [        nan -0.49706619]\n",
            " [-0.33852763 -0.48619536]\n",
            " [        nan -0.63986937]\n",
            " [ 1.45774141 -0.39231091]\n",
            " [-0.61487671 -0.48668949]\n",
            " [-0.61487671 -0.48075994]\n",
            " [-0.33852763 -0.50052509]\n",
            " [-0.68396398 -0.4456768 ]\n",
            " [ 2.35587593 -0.12597555]\n",
            " [-0.61487671 -0.48075994]\n",
            " [        nan -0.48668949]\n",
            " [ 0.69778144 -0.45259461]\n",
            " [ 0.97413052 -0.12597555]\n",
            " [-0.47670217 -0.38292246]\n",
            " [-0.13126581 -0.38292246]\n",
            " [ 0.21417054  1.13899386]\n",
            " [        nan -0.48075994]\n",
            " [-0.82213852 -0.50645463]\n",
            " [        nan  0.01238048]\n",
            " [-0.4076149  -0.46494782]\n",
            " [ 0.00690873 -0.38292246]\n",
            " [ 0.83595598 -0.12597555]\n",
            " [ 1.38865414  4.25241562]\n",
            " [        nan -0.46865379]\n",
            " [ 1.04321779  1.01002627]\n",
            " [ 0.00690873 -0.39329917]\n",
            " [ 0.49051962 -0.45037103]\n",
            " [-0.06217854 -0.48619536]\n",
            " [-0.89122579 -0.40268761]\n",
            " [-0.26944036 -0.43233533]\n",
            " [ 1.04321779 -0.35417999]\n",
            " [ 2.21770139 -0.43233533]\n",
            " [        nan -0.48668949]\n",
            " [-2.01389394 -0.25922624]\n",
            " [        nan -0.48380773]\n",
            " [-0.68396398 -0.49698317]\n",
            " [ 1.66500323  0.53418036]\n",
            " [ 0.21417054 -0.32659179]\n",
            " [-1.02940034 -0.49698317]\n",
            " [-0.33852763 -0.488666  ]\n",
            " [ 1.45774141 -0.50044207]\n",
            " [-0.54578944 -0.48578424]\n",
            " [-0.4076149  -0.48380773]\n",
            " [-0.89122579 -0.46865379]\n",
            " [ 1.45774141 -0.48075994]\n",
            " [ 0.55960689  0.76905553]\n",
            " [        nan -0.49657206]\n",
            " [        nan -0.35327474]\n",
            " [-1.16757488 -0.49698317]\n",
            " [        nan -0.48075994]\n",
            " [ 0.075996    1.59902765]\n",
            " [-0.47670217 -0.48462996]\n",
            " [-0.75305125 -0.48075994]\n",
            " [        nan -0.3385339 ]\n",
            " [ 0.075996   -0.43233533]\n",
            " [ 0.075996    0.09152408]\n",
            " [-0.68396398 -0.56056172]\n",
            " [-0.61487671 -0.49657206]\n",
            " [ 1.07776142 -0.07656268]\n",
            " [-0.54578944 -0.48075994]\n",
            " [        nan -0.48413583]\n",
            " [        nan -0.63986937]\n",
            " [-0.26944036 -0.48619536]\n",
            " [-0.33852763 -0.04691496]\n",
            " [-0.61487671 -0.4456768 ]\n",
            " [ 0.075996    0.38791827]\n",
            " [-1.02940034 -0.49706619]\n",
            " [        nan -0.48693655]\n",
            " [        nan -0.48668949]\n",
            " [ 2.42496321  0.58515862]\n",
            " [        nan -0.48075994]\n",
            " [-1.99662213 -0.41981806]\n",
            " [ 0.28325781 -0.11510472]\n",
            " [ 1.31956687 -0.63986937]\n",
            " [-0.82213852 -0.48075994]\n",
            " [        nan -0.35417999]\n",
            " [ 2.77039956 -0.43233533]\n",
            " [-1.09848761 -0.41767552]\n",
            " [-0.75305125 -0.48075994]\n",
            " [ 0.00690873 -0.16550585]\n",
            " [ 0.075996   -0.28409673]\n",
            " [ 0.14508327 -0.47458333]\n",
            " [-0.96031306 -0.48701956]\n",
            " [ 1.38865414 -0.48075994]\n",
            " [-0.4076149  -0.50052509]\n",
            " [ 1.80317777  0.06179334]\n",
            " [-1.5820985   0.1445599 ]\n",
            " [-1.44392396 -0.3385339 ]\n",
            " [ 0.21417054 -0.39725219]\n",
            " [-0.75305125 -0.48380773]\n",
            " [ 0.1796269  -0.04551559]\n",
            " [-1.99662213 -0.23320147]\n",
            " [ 1.04321779 -0.08842177]\n",
            " [        nan  1.55175535]\n",
            " [-0.75305125 -0.48619536]\n",
            " [-0.61487671  4.54601107]\n",
            " [-1.78936031 -0.30979142]]\n"
          ]
        }
      ]
    },
    {
      "cell_type": "code",
      "source": [
        "# Check for NaN values in X and y before splitting\n",
        "print(\"Checking for NaN values in feature matrix (X):\", pd.DataFrame(X).isna().sum().sum())\n",
        "print(\"Checking for NaN values in target vector (y):\", pd.Series(y).isna().sum())"
      ],
      "metadata": {
        "colab": {
          "base_uri": "https://localhost:8080/"
        },
        "id": "G0aERQT5qFHs",
        "outputId": "43101023-3364-4f64-9507-584ff75fef03"
      },
      "execution_count": null,
      "outputs": [
        {
          "output_type": "stream",
          "name": "stdout",
          "text": [
            "Checking for NaN values in feature matrix (X): 0\n",
            "Checking for NaN values in target vector (y): 0\n"
          ]
        }
      ]
    },
    {
      "cell_type": "code",
      "source": [
        "from sklearn.naive_bayes import GaussianNB\n",
        "classifier = GaussianNB()\n",
        "classifier.fit(X_train, y_train)"
      ],
      "metadata": {
        "colab": {
          "base_uri": "https://localhost:8080/",
          "height": 80
        },
        "id": "C9sswnZgqNOX",
        "outputId": "a255a615-5fbc-4909-da1a-b6b464155ee8"
      },
      "execution_count": null,
      "outputs": [
        {
          "output_type": "execute_result",
          "data": {
            "text/plain": [
              "GaussianNB()"
            ],
            "text/html": [
              "<style>#sk-container-id-3 {\n",
              "  /* Definition of color scheme common for light and dark mode */\n",
              "  --sklearn-color-text: black;\n",
              "  --sklearn-color-line: gray;\n",
              "  /* Definition of color scheme for unfitted estimators */\n",
              "  --sklearn-color-unfitted-level-0: #fff5e6;\n",
              "  --sklearn-color-unfitted-level-1: #f6e4d2;\n",
              "  --sklearn-color-unfitted-level-2: #ffe0b3;\n",
              "  --sklearn-color-unfitted-level-3: chocolate;\n",
              "  /* Definition of color scheme for fitted estimators */\n",
              "  --sklearn-color-fitted-level-0: #f0f8ff;\n",
              "  --sklearn-color-fitted-level-1: #d4ebff;\n",
              "  --sklearn-color-fitted-level-2: #b3dbfd;\n",
              "  --sklearn-color-fitted-level-3: cornflowerblue;\n",
              "\n",
              "  /* Specific color for light theme */\n",
              "  --sklearn-color-text-on-default-background: var(--sg-text-color, var(--theme-code-foreground, var(--jp-content-font-color1, black)));\n",
              "  --sklearn-color-background: var(--sg-background-color, var(--theme-background, var(--jp-layout-color0, white)));\n",
              "  --sklearn-color-border-box: var(--sg-text-color, var(--theme-code-foreground, var(--jp-content-font-color1, black)));\n",
              "  --sklearn-color-icon: #696969;\n",
              "\n",
              "  @media (prefers-color-scheme: dark) {\n",
              "    /* Redefinition of color scheme for dark theme */\n",
              "    --sklearn-color-text-on-default-background: var(--sg-text-color, var(--theme-code-foreground, var(--jp-content-font-color1, white)));\n",
              "    --sklearn-color-background: var(--sg-background-color, var(--theme-background, var(--jp-layout-color0, #111)));\n",
              "    --sklearn-color-border-box: var(--sg-text-color, var(--theme-code-foreground, var(--jp-content-font-color1, white)));\n",
              "    --sklearn-color-icon: #878787;\n",
              "  }\n",
              "}\n",
              "\n",
              "#sk-container-id-3 {\n",
              "  color: var(--sklearn-color-text);\n",
              "}\n",
              "\n",
              "#sk-container-id-3 pre {\n",
              "  padding: 0;\n",
              "}\n",
              "\n",
              "#sk-container-id-3 input.sk-hidden--visually {\n",
              "  border: 0;\n",
              "  clip: rect(1px 1px 1px 1px);\n",
              "  clip: rect(1px, 1px, 1px, 1px);\n",
              "  height: 1px;\n",
              "  margin: -1px;\n",
              "  overflow: hidden;\n",
              "  padding: 0;\n",
              "  position: absolute;\n",
              "  width: 1px;\n",
              "}\n",
              "\n",
              "#sk-container-id-3 div.sk-dashed-wrapped {\n",
              "  border: 1px dashed var(--sklearn-color-line);\n",
              "  margin: 0 0.4em 0.5em 0.4em;\n",
              "  box-sizing: border-box;\n",
              "  padding-bottom: 0.4em;\n",
              "  background-color: var(--sklearn-color-background);\n",
              "}\n",
              "\n",
              "#sk-container-id-3 div.sk-container {\n",
              "  /* jupyter's `normalize.less` sets `[hidden] { display: none; }`\n",
              "     but bootstrap.min.css set `[hidden] { display: none !important; }`\n",
              "     so we also need the `!important` here to be able to override the\n",
              "     default hidden behavior on the sphinx rendered scikit-learn.org.\n",
              "     See: https://github.com/scikit-learn/scikit-learn/issues/21755 */\n",
              "  display: inline-block !important;\n",
              "  position: relative;\n",
              "}\n",
              "\n",
              "#sk-container-id-3 div.sk-text-repr-fallback {\n",
              "  display: none;\n",
              "}\n",
              "\n",
              "div.sk-parallel-item,\n",
              "div.sk-serial,\n",
              "div.sk-item {\n",
              "  /* draw centered vertical line to link estimators */\n",
              "  background-image: linear-gradient(var(--sklearn-color-text-on-default-background), var(--sklearn-color-text-on-default-background));\n",
              "  background-size: 2px 100%;\n",
              "  background-repeat: no-repeat;\n",
              "  background-position: center center;\n",
              "}\n",
              "\n",
              "/* Parallel-specific style estimator block */\n",
              "\n",
              "#sk-container-id-3 div.sk-parallel-item::after {\n",
              "  content: \"\";\n",
              "  width: 100%;\n",
              "  border-bottom: 2px solid var(--sklearn-color-text-on-default-background);\n",
              "  flex-grow: 1;\n",
              "}\n",
              "\n",
              "#sk-container-id-3 div.sk-parallel {\n",
              "  display: flex;\n",
              "  align-items: stretch;\n",
              "  justify-content: center;\n",
              "  background-color: var(--sklearn-color-background);\n",
              "  position: relative;\n",
              "}\n",
              "\n",
              "#sk-container-id-3 div.sk-parallel-item {\n",
              "  display: flex;\n",
              "  flex-direction: column;\n",
              "}\n",
              "\n",
              "#sk-container-id-3 div.sk-parallel-item:first-child::after {\n",
              "  align-self: flex-end;\n",
              "  width: 50%;\n",
              "}\n",
              "\n",
              "#sk-container-id-3 div.sk-parallel-item:last-child::after {\n",
              "  align-self: flex-start;\n",
              "  width: 50%;\n",
              "}\n",
              "\n",
              "#sk-container-id-3 div.sk-parallel-item:only-child::after {\n",
              "  width: 0;\n",
              "}\n",
              "\n",
              "/* Serial-specific style estimator block */\n",
              "\n",
              "#sk-container-id-3 div.sk-serial {\n",
              "  display: flex;\n",
              "  flex-direction: column;\n",
              "  align-items: center;\n",
              "  background-color: var(--sklearn-color-background);\n",
              "  padding-right: 1em;\n",
              "  padding-left: 1em;\n",
              "}\n",
              "\n",
              "\n",
              "/* Toggleable style: style used for estimator/Pipeline/ColumnTransformer box that is\n",
              "clickable and can be expanded/collapsed.\n",
              "- Pipeline and ColumnTransformer use this feature and define the default style\n",
              "- Estimators will overwrite some part of the style using the `sk-estimator` class\n",
              "*/\n",
              "\n",
              "/* Pipeline and ColumnTransformer style (default) */\n",
              "\n",
              "#sk-container-id-3 div.sk-toggleable {\n",
              "  /* Default theme specific background. It is overwritten whether we have a\n",
              "  specific estimator or a Pipeline/ColumnTransformer */\n",
              "  background-color: var(--sklearn-color-background);\n",
              "}\n",
              "\n",
              "/* Toggleable label */\n",
              "#sk-container-id-3 label.sk-toggleable__label {\n",
              "  cursor: pointer;\n",
              "  display: block;\n",
              "  width: 100%;\n",
              "  margin-bottom: 0;\n",
              "  padding: 0.5em;\n",
              "  box-sizing: border-box;\n",
              "  text-align: center;\n",
              "}\n",
              "\n",
              "#sk-container-id-3 label.sk-toggleable__label-arrow:before {\n",
              "  /* Arrow on the left of the label */\n",
              "  content: \"▸\";\n",
              "  float: left;\n",
              "  margin-right: 0.25em;\n",
              "  color: var(--sklearn-color-icon);\n",
              "}\n",
              "\n",
              "#sk-container-id-3 label.sk-toggleable__label-arrow:hover:before {\n",
              "  color: var(--sklearn-color-text);\n",
              "}\n",
              "\n",
              "/* Toggleable content - dropdown */\n",
              "\n",
              "#sk-container-id-3 div.sk-toggleable__content {\n",
              "  max-height: 0;\n",
              "  max-width: 0;\n",
              "  overflow: hidden;\n",
              "  text-align: left;\n",
              "  /* unfitted */\n",
              "  background-color: var(--sklearn-color-unfitted-level-0);\n",
              "}\n",
              "\n",
              "#sk-container-id-3 div.sk-toggleable__content.fitted {\n",
              "  /* fitted */\n",
              "  background-color: var(--sklearn-color-fitted-level-0);\n",
              "}\n",
              "\n",
              "#sk-container-id-3 div.sk-toggleable__content pre {\n",
              "  margin: 0.2em;\n",
              "  border-radius: 0.25em;\n",
              "  color: var(--sklearn-color-text);\n",
              "  /* unfitted */\n",
              "  background-color: var(--sklearn-color-unfitted-level-0);\n",
              "}\n",
              "\n",
              "#sk-container-id-3 div.sk-toggleable__content.fitted pre {\n",
              "  /* unfitted */\n",
              "  background-color: var(--sklearn-color-fitted-level-0);\n",
              "}\n",
              "\n",
              "#sk-container-id-3 input.sk-toggleable__control:checked~div.sk-toggleable__content {\n",
              "  /* Expand drop-down */\n",
              "  max-height: 200px;\n",
              "  max-width: 100%;\n",
              "  overflow: auto;\n",
              "}\n",
              "\n",
              "#sk-container-id-3 input.sk-toggleable__control:checked~label.sk-toggleable__label-arrow:before {\n",
              "  content: \"▾\";\n",
              "}\n",
              "\n",
              "/* Pipeline/ColumnTransformer-specific style */\n",
              "\n",
              "#sk-container-id-3 div.sk-label input.sk-toggleable__control:checked~label.sk-toggleable__label {\n",
              "  color: var(--sklearn-color-text);\n",
              "  background-color: var(--sklearn-color-unfitted-level-2);\n",
              "}\n",
              "\n",
              "#sk-container-id-3 div.sk-label.fitted input.sk-toggleable__control:checked~label.sk-toggleable__label {\n",
              "  background-color: var(--sklearn-color-fitted-level-2);\n",
              "}\n",
              "\n",
              "/* Estimator-specific style */\n",
              "\n",
              "/* Colorize estimator box */\n",
              "#sk-container-id-3 div.sk-estimator input.sk-toggleable__control:checked~label.sk-toggleable__label {\n",
              "  /* unfitted */\n",
              "  background-color: var(--sklearn-color-unfitted-level-2);\n",
              "}\n",
              "\n",
              "#sk-container-id-3 div.sk-estimator.fitted input.sk-toggleable__control:checked~label.sk-toggleable__label {\n",
              "  /* fitted */\n",
              "  background-color: var(--sklearn-color-fitted-level-2);\n",
              "}\n",
              "\n",
              "#sk-container-id-3 div.sk-label label.sk-toggleable__label,\n",
              "#sk-container-id-3 div.sk-label label {\n",
              "  /* The background is the default theme color */\n",
              "  color: var(--sklearn-color-text-on-default-background);\n",
              "}\n",
              "\n",
              "/* On hover, darken the color of the background */\n",
              "#sk-container-id-3 div.sk-label:hover label.sk-toggleable__label {\n",
              "  color: var(--sklearn-color-text);\n",
              "  background-color: var(--sklearn-color-unfitted-level-2);\n",
              "}\n",
              "\n",
              "/* Label box, darken color on hover, fitted */\n",
              "#sk-container-id-3 div.sk-label.fitted:hover label.sk-toggleable__label.fitted {\n",
              "  color: var(--sklearn-color-text);\n",
              "  background-color: var(--sklearn-color-fitted-level-2);\n",
              "}\n",
              "\n",
              "/* Estimator label */\n",
              "\n",
              "#sk-container-id-3 div.sk-label label {\n",
              "  font-family: monospace;\n",
              "  font-weight: bold;\n",
              "  display: inline-block;\n",
              "  line-height: 1.2em;\n",
              "}\n",
              "\n",
              "#sk-container-id-3 div.sk-label-container {\n",
              "  text-align: center;\n",
              "}\n",
              "\n",
              "/* Estimator-specific */\n",
              "#sk-container-id-3 div.sk-estimator {\n",
              "  font-family: monospace;\n",
              "  border: 1px dotted var(--sklearn-color-border-box);\n",
              "  border-radius: 0.25em;\n",
              "  box-sizing: border-box;\n",
              "  margin-bottom: 0.5em;\n",
              "  /* unfitted */\n",
              "  background-color: var(--sklearn-color-unfitted-level-0);\n",
              "}\n",
              "\n",
              "#sk-container-id-3 div.sk-estimator.fitted {\n",
              "  /* fitted */\n",
              "  background-color: var(--sklearn-color-fitted-level-0);\n",
              "}\n",
              "\n",
              "/* on hover */\n",
              "#sk-container-id-3 div.sk-estimator:hover {\n",
              "  /* unfitted */\n",
              "  background-color: var(--sklearn-color-unfitted-level-2);\n",
              "}\n",
              "\n",
              "#sk-container-id-3 div.sk-estimator.fitted:hover {\n",
              "  /* fitted */\n",
              "  background-color: var(--sklearn-color-fitted-level-2);\n",
              "}\n",
              "\n",
              "/* Specification for estimator info (e.g. \"i\" and \"?\") */\n",
              "\n",
              "/* Common style for \"i\" and \"?\" */\n",
              "\n",
              ".sk-estimator-doc-link,\n",
              "a:link.sk-estimator-doc-link,\n",
              "a:visited.sk-estimator-doc-link {\n",
              "  float: right;\n",
              "  font-size: smaller;\n",
              "  line-height: 1em;\n",
              "  font-family: monospace;\n",
              "  background-color: var(--sklearn-color-background);\n",
              "  border-radius: 1em;\n",
              "  height: 1em;\n",
              "  width: 1em;\n",
              "  text-decoration: none !important;\n",
              "  margin-left: 1ex;\n",
              "  /* unfitted */\n",
              "  border: var(--sklearn-color-unfitted-level-1) 1pt solid;\n",
              "  color: var(--sklearn-color-unfitted-level-1);\n",
              "}\n",
              "\n",
              ".sk-estimator-doc-link.fitted,\n",
              "a:link.sk-estimator-doc-link.fitted,\n",
              "a:visited.sk-estimator-doc-link.fitted {\n",
              "  /* fitted */\n",
              "  border: var(--sklearn-color-fitted-level-1) 1pt solid;\n",
              "  color: var(--sklearn-color-fitted-level-1);\n",
              "}\n",
              "\n",
              "/* On hover */\n",
              "div.sk-estimator:hover .sk-estimator-doc-link:hover,\n",
              ".sk-estimator-doc-link:hover,\n",
              "div.sk-label-container:hover .sk-estimator-doc-link:hover,\n",
              ".sk-estimator-doc-link:hover {\n",
              "  /* unfitted */\n",
              "  background-color: var(--sklearn-color-unfitted-level-3);\n",
              "  color: var(--sklearn-color-background);\n",
              "  text-decoration: none;\n",
              "}\n",
              "\n",
              "div.sk-estimator.fitted:hover .sk-estimator-doc-link.fitted:hover,\n",
              ".sk-estimator-doc-link.fitted:hover,\n",
              "div.sk-label-container:hover .sk-estimator-doc-link.fitted:hover,\n",
              ".sk-estimator-doc-link.fitted:hover {\n",
              "  /* fitted */\n",
              "  background-color: var(--sklearn-color-fitted-level-3);\n",
              "  color: var(--sklearn-color-background);\n",
              "  text-decoration: none;\n",
              "}\n",
              "\n",
              "/* Span, style for the box shown on hovering the info icon */\n",
              ".sk-estimator-doc-link span {\n",
              "  display: none;\n",
              "  z-index: 9999;\n",
              "  position: relative;\n",
              "  font-weight: normal;\n",
              "  right: .2ex;\n",
              "  padding: .5ex;\n",
              "  margin: .5ex;\n",
              "  width: min-content;\n",
              "  min-width: 20ex;\n",
              "  max-width: 50ex;\n",
              "  color: var(--sklearn-color-text);\n",
              "  box-shadow: 2pt 2pt 4pt #999;\n",
              "  /* unfitted */\n",
              "  background: var(--sklearn-color-unfitted-level-0);\n",
              "  border: .5pt solid var(--sklearn-color-unfitted-level-3);\n",
              "}\n",
              "\n",
              ".sk-estimator-doc-link.fitted span {\n",
              "  /* fitted */\n",
              "  background: var(--sklearn-color-fitted-level-0);\n",
              "  border: var(--sklearn-color-fitted-level-3);\n",
              "}\n",
              "\n",
              ".sk-estimator-doc-link:hover span {\n",
              "  display: block;\n",
              "}\n",
              "\n",
              "/* \"?\"-specific style due to the `<a>` HTML tag */\n",
              "\n",
              "#sk-container-id-3 a.estimator_doc_link {\n",
              "  float: right;\n",
              "  font-size: 1rem;\n",
              "  line-height: 1em;\n",
              "  font-family: monospace;\n",
              "  background-color: var(--sklearn-color-background);\n",
              "  border-radius: 1rem;\n",
              "  height: 1rem;\n",
              "  width: 1rem;\n",
              "  text-decoration: none;\n",
              "  /* unfitted */\n",
              "  color: var(--sklearn-color-unfitted-level-1);\n",
              "  border: var(--sklearn-color-unfitted-level-1) 1pt solid;\n",
              "}\n",
              "\n",
              "#sk-container-id-3 a.estimator_doc_link.fitted {\n",
              "  /* fitted */\n",
              "  border: var(--sklearn-color-fitted-level-1) 1pt solid;\n",
              "  color: var(--sklearn-color-fitted-level-1);\n",
              "}\n",
              "\n",
              "/* On hover */\n",
              "#sk-container-id-3 a.estimator_doc_link:hover {\n",
              "  /* unfitted */\n",
              "  background-color: var(--sklearn-color-unfitted-level-3);\n",
              "  color: var(--sklearn-color-background);\n",
              "  text-decoration: none;\n",
              "}\n",
              "\n",
              "#sk-container-id-3 a.estimator_doc_link.fitted:hover {\n",
              "  /* fitted */\n",
              "  background-color: var(--sklearn-color-fitted-level-3);\n",
              "}\n",
              "</style><div id=\"sk-container-id-3\" class=\"sk-top-container\"><div class=\"sk-text-repr-fallback\"><pre>GaussianNB()</pre><b>In a Jupyter environment, please rerun this cell to show the HTML representation or trust the notebook. <br />On GitHub, the HTML representation is unable to render, please try loading this page with nbviewer.org.</b></div><div class=\"sk-container\" hidden><div class=\"sk-item\"><div class=\"sk-estimator fitted sk-toggleable\"><input class=\"sk-toggleable__control sk-hidden--visually\" id=\"sk-estimator-id-3\" type=\"checkbox\" checked><label for=\"sk-estimator-id-3\" class=\"sk-toggleable__label fitted sk-toggleable__label-arrow fitted\">&nbsp;&nbsp;GaussianNB<a class=\"sk-estimator-doc-link fitted\" rel=\"noreferrer\" target=\"_blank\" href=\"https://scikit-learn.org/1.5/modules/generated/sklearn.naive_bayes.GaussianNB.html\">?<span>Documentation for GaussianNB</span></a><span class=\"sk-estimator-doc-link fitted\">i<span>Fitted</span></span></label><div class=\"sk-toggleable__content fitted\"><pre>GaussianNB()</pre></div> </div></div></div></div>"
            ]
          },
          "metadata": {},
          "execution_count": 76
        }
      ]
    },
    {
      "cell_type": "markdown",
      "source": [
        "##Predicting a new result"
      ],
      "metadata": {
        "id": "sWD-E6uXxHqa"
      }
    },
    {
      "cell_type": "code",
      "source": [
        "print(classifier.predict(sc.transform([[30,87000]])))"
      ],
      "metadata": {
        "colab": {
          "base_uri": "https://localhost:8080/"
        },
        "id": "SBIRAFkZqP_0",
        "outputId": "97ad88b4-cf8d-4e46-876a-580ee76097a0"
      },
      "execution_count": null,
      "outputs": [
        {
          "output_type": "stream",
          "name": "stdout",
          "text": [
            "[1]\n"
          ]
        }
      ]
    },
    {
      "cell_type": "markdown",
      "source": [
        "##Predicting the Test set results"
      ],
      "metadata": {
        "id": "EefJYHslxNID"
      }
    },
    {
      "cell_type": "code",
      "source": [
        "y_pred = classifier.predict(X_test)\n",
        "print(np.concatenate((y_pred.reshape(len(y_pred),1), y_test.reshape(len(y_test),1)),1))"
      ],
      "metadata": {
        "colab": {
          "base_uri": "https://localhost:8080/"
        },
        "id": "noF1xawOqTXt",
        "outputId": "691c90b1-ad53-4700-d9e4-601a430a1ee1"
      },
      "execution_count": null,
      "outputs": [
        {
          "output_type": "stream",
          "name": "stdout",
          "text": [
            "[[0 0]\n",
            " [0 0]\n",
            " [0 0]\n",
            " [1 1]\n",
            " [0 1]\n",
            " [0 1]\n",
            " [1 1]\n",
            " [1 1]\n",
            " [1 1]\n",
            " [0 1]\n",
            " [0 0]\n",
            " [0 1]\n",
            " [0 0]\n",
            " [0 1]\n",
            " [1 1]\n",
            " [0 0]\n",
            " [0 0]\n",
            " [0 0]\n",
            " [0 0]\n",
            " [0 1]\n",
            " [0 0]\n",
            " [1 1]\n",
            " [0 0]\n",
            " [0 0]\n",
            " [0 0]\n",
            " [1 1]\n",
            " [0 0]\n",
            " [0 1]\n",
            " [0 1]\n",
            " [0 0]\n",
            " [0 0]\n",
            " [0 1]\n",
            " [0 0]\n",
            " [0 1]\n",
            " [0 0]\n",
            " [0 1]\n",
            " [0 0]\n",
            " [0 0]\n",
            " [0 0]\n",
            " [0 0]\n",
            " [1 1]\n",
            " [0 0]\n",
            " [0 0]\n",
            " [0 0]\n",
            " [1 1]\n",
            " [0 0]\n",
            " [0 0]\n",
            " [1 1]\n",
            " [0 0]\n",
            " [1 0]\n",
            " [0 1]\n",
            " [0 1]\n",
            " [0 1]\n",
            " [0 0]\n",
            " [0 1]\n",
            " [0 0]\n",
            " [0 0]\n",
            " [0 0]\n",
            " [0 0]\n",
            " [0 1]\n",
            " [0 0]\n",
            " [0 0]\n",
            " [1 1]\n",
            " [0 0]\n",
            " [0 1]\n",
            " [0 0]\n",
            " [0 1]\n",
            " [0 0]\n",
            " [0 1]\n",
            " [0 1]\n",
            " [0 1]\n",
            " [0 1]\n",
            " [1 0]\n",
            " [0 0]\n",
            " [0 0]\n",
            " [0 1]\n",
            " [1 0]\n",
            " [0 0]\n",
            " [0 0]\n",
            " [0 0]\n",
            " [0 0]\n",
            " [0 1]\n",
            " [0 0]\n",
            " [0 0]\n",
            " [0 0]\n",
            " [1 1]\n",
            " [1 1]\n",
            " [0 1]\n",
            " [0 1]\n",
            " [1 0]\n",
            " [0 0]\n",
            " [0 0]\n",
            " [0 1]\n",
            " [0 1]\n",
            " [0 0]\n",
            " [0 0]\n",
            " [0 1]\n",
            " [0 0]\n",
            " [0 0]\n",
            " [1 1]\n",
            " [0 0]\n",
            " [0 0]\n",
            " [0 0]\n",
            " [0 0]\n",
            " [0 0]\n",
            " [0 1]\n",
            " [0 1]\n",
            " [0 0]\n",
            " [0 0]\n",
            " [0 1]\n",
            " [0 0]\n",
            " [0 1]\n",
            " [0 1]\n",
            " [0 0]\n",
            " [1 1]\n",
            " [0 1]\n",
            " [0 1]\n",
            " [1 1]\n",
            " [0 0]\n",
            " [0 1]\n",
            " [0 1]\n",
            " [0 0]\n",
            " [0 0]\n",
            " [0 0]\n",
            " [0 0]\n",
            " [0 0]\n",
            " [0 0]\n",
            " [0 1]\n",
            " [0 0]\n",
            " [0 0]\n",
            " [0 0]\n",
            " [0 0]\n",
            " [0 0]\n",
            " [0 0]\n",
            " [0 0]\n",
            " [0 0]\n",
            " [0 0]\n",
            " [0 0]\n",
            " [0 0]\n",
            " [0 0]\n",
            " [0 0]\n",
            " [1 1]\n",
            " [0 0]\n",
            " [0 0]\n",
            " [0 1]\n",
            " [0 0]\n",
            " [0 0]\n",
            " [0 1]\n",
            " [1 1]\n",
            " [0 0]\n",
            " [1 0]\n",
            " [0 1]\n",
            " [0 0]\n",
            " [0 0]\n",
            " [0 1]\n",
            " [0 0]\n",
            " [0 0]\n",
            " [0 1]\n",
            " [0 0]\n",
            " [0 1]\n",
            " [0 0]\n",
            " [0 1]\n",
            " [0 1]\n",
            " [0 1]\n",
            " [0 0]\n",
            " [0 0]\n",
            " [0 0]\n",
            " [0 0]\n",
            " [0 0]\n",
            " [0 0]\n",
            " [0 0]\n",
            " [0 1]\n",
            " [0 0]\n",
            " [0 0]\n",
            " [0 1]\n",
            " [0 0]\n",
            " [1 1]\n",
            " [0 0]\n",
            " [0 0]\n",
            " [0 0]\n",
            " [0 0]\n",
            " [0 0]\n",
            " [0 0]\n",
            " [0 0]\n",
            " [0 0]\n",
            " [0 0]\n",
            " [0 1]\n",
            " [0 0]\n",
            " [0 0]\n",
            " [0 1]\n",
            " [0 0]\n",
            " [0 0]\n",
            " [0 1]\n",
            " [0 1]\n",
            " [0 0]\n",
            " [0 0]\n",
            " [0 0]\n",
            " [0 1]\n",
            " [0 1]\n",
            " [0 0]\n",
            " [0 1]\n",
            " [0 0]\n",
            " [0 0]\n",
            " [0 1]\n",
            " [0 1]\n",
            " [0 0]\n",
            " [0 0]\n",
            " [0 0]\n",
            " [0 1]\n",
            " [0 0]\n",
            " [0 0]\n",
            " [0 1]\n",
            " [0 0]\n",
            " [0 0]\n",
            " [0 0]\n",
            " [0 0]\n",
            " [0 0]\n",
            " [0 1]\n",
            " [0 0]\n",
            " [1 1]\n",
            " [0 0]\n",
            " [1 1]\n",
            " [0 1]]\n"
          ]
        }
      ]
    },
    {
      "cell_type": "markdown",
      "source": [
        "##Making the Confusion Matrix"
      ],
      "metadata": {
        "id": "lfjQHLtBxSRS"
      }
    },
    {
      "cell_type": "code",
      "source": [
        "from sklearn.metrics import confusion_matrix, accuracy_score\n",
        "cm = confusion_matrix(y_test, y_pred)\n",
        "print(cm)\n",
        "accuracy_score(y_test, y_pred)"
      ],
      "metadata": {
        "colab": {
          "base_uri": "https://localhost:8080/"
        },
        "id": "5rnCtHLhqWEb",
        "outputId": "6a81074e-fc3e-46a3-a119-33928bb9d0c6"
      },
      "execution_count": null,
      "outputs": [
        {
          "output_type": "stream",
          "name": "stdout",
          "text": [
            "[[134   5]\n",
            " [ 63  21]]\n"
          ]
        },
        {
          "output_type": "execute_result",
          "data": {
            "text/plain": [
              "0.695067264573991"
            ]
          },
          "metadata": {},
          "execution_count": 50
        }
      ]
    },
    {
      "cell_type": "markdown",
      "source": [
        "##Visualising the Training set results"
      ],
      "metadata": {
        "id": "tZbZwZluxXA2"
      }
    },
    {
      "cell_type": "code",
      "source": [
        "# Create mesh grid for contour plot\n",
        "X_set, y_set = X_scaled, y\n",
        "X1, X2 = np.meshgrid(np.arange(start=X_set[:, 0].min() - 1, stop=X_set[:, 0].max() + 1, step=0.01),\n",
        "                     np.arange(start=X_set[:, 1].min() - 10, stop=X_set[:, 1].max() + 10, step=0.01))\n",
        "\n",
        "# Create contour plot\n",
        "plt.contourf(X1, X2, classifier.predict(sc.inverse_transform(np.array([X1.ravel(), X2.ravel()]).T)).reshape(X1.shape),\n",
        "             alpha=0.75, cmap=ListedColormap(('red', 'green')))\n",
        "plt.xlim(X1.min(), X1.max())\n",
        "plt.ylim(X2.min(), X2.max())\n",
        "\n",
        "# Scatter plot\n",
        "for i, j in enumerate(np.unique(y_set)):\n",
        "    plt.scatter(X_set[y_set == j, 0], X_set[y_set == j, 1],\n",
        "                c=ListedColormap(('red', 'green'))(i), label=j)\n",
        "\n",
        "plt.title('Naive Bayes Classification (Titanic Dataset)')\n",
        "plt.xlabel('Age (scaled)')\n",
        "plt.ylabel('Fare (scaled)')\n",
        "plt.legend()\n",
        "plt.show()\n"
      ],
      "metadata": {
        "colab": {
          "base_uri": "https://localhost:8080/",
          "height": 527
        },
        "id": "O9ajeCmJqg-y",
        "outputId": "942c588f-e8ab-4359-f367-fa1e59cc57e7"
      },
      "execution_count": null,
      "outputs": [
        {
          "output_type": "stream",
          "name": "stderr",
          "text": [
            "<ipython-input-59-2ca01a0d163f>:14: UserWarning: *c* argument looks like a single numeric RGB or RGBA sequence, which should be avoided as value-mapping will have precedence in case its length matches with *x* & *y*.  Please use the *color* keyword-argument or provide a 2D array with a single row if you intend to specify the same RGB or RGBA value for all points.\n",
            "  plt.scatter(X_set[y_set == j, 0], X_set[y_set == j, 1],\n"
          ]
        },
        {
          "output_type": "display_data",
          "data": {
            "text/plain": [
              "<Figure size 640x480 with 1 Axes>"
            ],
            "image/png": "[encoded data removed]"
          },
          "metadata": {}
        }
      ]
    },
    {
      "cell_type": "markdown",
      "source": [
        "##Visualising the Test set results"
      ],
      "metadata": {
        "id": "45G5hcNaxZyD"
      }
    },
    {
      "cell_type": "code",
      "source": [
        "# Visualizing the Test set results\n",
        "X_set, y_set = X_test_scaled, y_test\n",
        "X1, X2 = np.meshgrid(np.arange(start=X_set[:, 0].min() - 1, stop=X_set[:, 0].max() + 1, step=0.01),\n",
        "                     np.arange(start=X_set[:, 1].min() - 10, stop=X_set[:, 1].max() + 10, step=0.01))\n",
        "# Create contour plot\n",
        "plt.contourf(X1, X2, classifier.predict(sc.transform(np.array([X1.ravel(), X2.ravel()]).T)).reshape(X1.shape),\n",
        "             alpha=0.75, cmap=ListedColormap(('red', 'green')))\n",
        "plt.xlim(X1.min(), X1.max())\n",
        "plt.ylim(X2.min(), X2.max())\n",
        "\n",
        "# Scatter plot for the test set\n",
        "for i, j in enumerate(np.unique(y_set)):\n",
        "    plt.scatter(X_set[y_set == j, 0], X_set[y_set == j, 1],\n",
        "                c=ListedColormap(('red', 'green'))(i), label=j)\n",
        "\n",
        "plt.title('Naive Bayes (Test set) - Titanic Dataset')\n",
        "plt.xlabel('Age (scaled)')\n",
        "plt.ylabel('Fare (scaled)')\n",
        "plt.legend()\n",
        "plt.show()\n"
      ],
      "metadata": {
        "colab": {
          "base_uri": "https://localhost:8080/",
          "height": 561
        },
        "id": "HYFAN0PgsJgD",
        "outputId": "d1107c47-b47a-4adc-878d-98017acad71d"
      },
      "execution_count": null,
      "outputs": [
        {
          "output_type": "stream",
          "name": "stderr",
          "text": [
            "/usr/local/lib/python3.10/dist-packages/sklearn/base.py:493: UserWarning: X does not have valid feature names, but StandardScaler was fitted with feature names\n",
            "  warnings.warn(\n",
            "<ipython-input-62-5c8e36181fc9>:13: UserWarning: *c* argument looks like a single numeric RGB or RGBA sequence, which should be avoided as value-mapping will have precedence in case its length matches with *x* & *y*.  Please use the *color* keyword-argument or provide a 2D array with a single row if you intend to specify the same RGB or RGBA value for all points.\n",
            "  plt.scatter(X_set[y_set == j, 0], X_set[y_set == j, 1],\n"
          ]
        },
        {
          "output_type": "display_data",
          "data": {
            "text/plain": [
              "<Figure size 640x480 with 1 Axes>"
            ],
            "image/png": "[encoded data removed]"
          },
          "metadata": {}
        }
      ]
    },
    {
      "cell_type": "markdown",
      "source": [
        "##**CONCLUSION:**"
      ],
      "metadata": {
        "id": "8t4e8o2q8lkV"
      }
    },
    {
      "cell_type": "markdown",
      "source": [
        "In this practical, we implemented a Naive Bayes classifier to predict survival outcomes from the Titanic dataset using key features, specifically Age and Fare. After preprocessing the data, scaling the features, and splitting it into training and testing sets, we trained the model and visualized the classification results. The contour plot illustrates the decision boundaries established by the classifier, while the scatter plot displays the actual test data points, effectively demonstrating how well the model differentiates between survivors and non-survivors. This exercise not only showcases the application of Naive Bayes in classification tasks but also emphasizes the importance of data preprocessing and visualization in understanding model performance."
      ],
      "metadata": {
        "id": "LfgbZlYA89mJ"
      }
    }
  ]
}